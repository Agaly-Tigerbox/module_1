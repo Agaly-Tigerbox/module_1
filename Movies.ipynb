{
 "cells": [
  {
   "cell_type": "code",
   "execution_count": 1,
   "metadata": {
    "_cell_guid": "b1076dfc-b9ad-4769-8c92-a6c4dae69d19",
    "_uuid": "8f2839f25d086af736a60e9eeb907d3b93b6e0e5",
    "colab": {},
    "colab_type": "code",
    "id": "U2D2gTdJVp90"
   },
   "outputs": [],
   "source": [
    "import numpy as np\n",
    "import pandas as pd\n",
    "import seaborn as sns\n",
    "import matplotlib.pyplot as plt\n",
    "from collections import Counter"
   ]
  },
  {
   "cell_type": "code",
   "execution_count": 2,
   "metadata": {
    "_cell_guid": "79c7e3d0-c299-4dcb-8224-4455121ee9b0",
    "_uuid": "d629ff2d2480ee46fbb7e2d37f6b5fab8052498a",
    "colab": {},
    "colab_type": "code",
    "id": "oyGfxL3eVp9-"
   },
   "outputs": [
    {
     "data": {
      "text/html": [
       "<div>\n",
       "<style scoped>\n",
       "    .dataframe tbody tr th:only-of-type {\n",
       "        vertical-align: middle;\n",
       "    }\n",
       "\n",
       "    .dataframe tbody tr th {\n",
       "        vertical-align: top;\n",
       "    }\n",
       "\n",
       "    .dataframe thead th {\n",
       "        text-align: right;\n",
       "    }\n",
       "</style>\n",
       "<table border=\"1\" class=\"dataframe\">\n",
       "  <thead>\n",
       "    <tr style=\"text-align: right;\">\n",
       "      <th></th>\n",
       "      <th>imdb_id</th>\n",
       "      <th>budget</th>\n",
       "      <th>revenue</th>\n",
       "      <th>original_title</th>\n",
       "      <th>cast</th>\n",
       "      <th>director</th>\n",
       "      <th>tagline</th>\n",
       "      <th>overview</th>\n",
       "      <th>runtime</th>\n",
       "      <th>genres</th>\n",
       "      <th>production_companies</th>\n",
       "      <th>release_date</th>\n",
       "      <th>vote_average</th>\n",
       "      <th>release_year</th>\n",
       "    </tr>\n",
       "  </thead>\n",
       "  <tbody>\n",
       "    <tr>\n",
       "      <th>603</th>\n",
       "      <td>tt0367882</td>\n",
       "      <td>185000000</td>\n",
       "      <td>786636033</td>\n",
       "      <td>Indiana Jones and the Kingdom of the Crystal S...</td>\n",
       "      <td>Harrison Ford|Cate Blanchett|Shia LaBeouf|Ray ...</td>\n",
       "      <td>Steven Spielberg</td>\n",
       "      <td>The adventure continues . . .</td>\n",
       "      <td>Set during the Cold War, the Soviets â€“ led b...</td>\n",
       "      <td>122</td>\n",
       "      <td>Adventure|Action</td>\n",
       "      <td>Lucasfilm|Paramount Pictures</td>\n",
       "      <td>5/21/2008</td>\n",
       "      <td>5.6</td>\n",
       "      <td>2008</td>\n",
       "    </tr>\n",
       "    <tr>\n",
       "      <th>1182</th>\n",
       "      <td>tt1951264</td>\n",
       "      <td>130000000</td>\n",
       "      <td>847423452</td>\n",
       "      <td>The Hunger Games: Catching Fire</td>\n",
       "      <td>Jennifer Lawrence|Josh Hutcherson|Liam Hemswor...</td>\n",
       "      <td>Francis Lawrence</td>\n",
       "      <td>Every revolution begins with a spark.</td>\n",
       "      <td>Katniss Everdeen has returned home safe after ...</td>\n",
       "      <td>146</td>\n",
       "      <td>Science Fiction|Thriller|Action|Adventure</td>\n",
       "      <td>Lionsgate|Color Force</td>\n",
       "      <td>11/15/2013</td>\n",
       "      <td>7.4</td>\n",
       "      <td>2013</td>\n",
       "    </tr>\n",
       "    <tr>\n",
       "      <th>1189</th>\n",
       "      <td>tt1690953</td>\n",
       "      <td>76000000</td>\n",
       "      <td>970761885</td>\n",
       "      <td>Despicable Me 2</td>\n",
       "      <td>Steve Carell|Kristen Wiig|Benjamin Bratt|Miran...</td>\n",
       "      <td>Pierre Coffin|Chris Renaud</td>\n",
       "      <td>Back 2 Work</td>\n",
       "      <td>Gru is recruited by the Anti-Villain League to...</td>\n",
       "      <td>98</td>\n",
       "      <td>Animation|Comedy|Family</td>\n",
       "      <td>Universal Pictures|Illumination Entertainment</td>\n",
       "      <td>6/25/2013</td>\n",
       "      <td>7.0</td>\n",
       "      <td>2013</td>\n",
       "    </tr>\n",
       "    <tr>\n",
       "      <th>284</th>\n",
       "      <td>tt1078940</td>\n",
       "      <td>70000000</td>\n",
       "      <td>171844840</td>\n",
       "      <td>Couples Retreat</td>\n",
       "      <td>Vince Vaughn|Malin Ã…kerman|Jason Bateman|Kris...</td>\n",
       "      <td>Peter Billingsley</td>\n",
       "      <td>It may be paradise... but it's no vacation.</td>\n",
       "      <td>Four couples, all friends, descend on a tropic...</td>\n",
       "      <td>113</td>\n",
       "      <td>Comedy|Romance</td>\n",
       "      <td>Universal Pictures|Wild West Picture Show Prod...</td>\n",
       "      <td>9/19/2009</td>\n",
       "      <td>5.3</td>\n",
       "      <td>2009</td>\n",
       "    </tr>\n",
       "    <tr>\n",
       "      <th>1393</th>\n",
       "      <td>tt0391304</td>\n",
       "      <td>30000000</td>\n",
       "      <td>42886719</td>\n",
       "      <td>A Lot Like Love</td>\n",
       "      <td>Ashton Kutcher|Amanda Peet|Aimee Garcia|Taryn ...</td>\n",
       "      <td>Nigel Cole</td>\n",
       "      <td>There's nothing better than a great romance......</td>\n",
       "      <td>On a flight from Los Angeles to New York, Oliv...</td>\n",
       "      <td>107</td>\n",
       "      <td>Comedy</td>\n",
       "      <td>Mile High Productions|Kevin Messick Production...</td>\n",
       "      <td>4/22/2005</td>\n",
       "      <td>6.5</td>\n",
       "      <td>2005</td>\n",
       "    </tr>\n",
       "  </tbody>\n",
       "</table>\n",
       "</div>"
      ],
      "text/plain": [
       "        imdb_id     budget    revenue  \\\n",
       "603   tt0367882  185000000  786636033   \n",
       "1182  tt1951264  130000000  847423452   \n",
       "1189  tt1690953   76000000  970761885   \n",
       "284   tt1078940   70000000  171844840   \n",
       "1393  tt0391304   30000000   42886719   \n",
       "\n",
       "                                         original_title  \\\n",
       "603   Indiana Jones and the Kingdom of the Crystal S...   \n",
       "1182                    The Hunger Games: Catching Fire   \n",
       "1189                                    Despicable Me 2   \n",
       "284                                     Couples Retreat   \n",
       "1393                                    A Lot Like Love   \n",
       "\n",
       "                                                   cast  \\\n",
       "603   Harrison Ford|Cate Blanchett|Shia LaBeouf|Ray ...   \n",
       "1182  Jennifer Lawrence|Josh Hutcherson|Liam Hemswor...   \n",
       "1189  Steve Carell|Kristen Wiig|Benjamin Bratt|Miran...   \n",
       "284   Vince Vaughn|Malin Ã…kerman|Jason Bateman|Kris...   \n",
       "1393  Ashton Kutcher|Amanda Peet|Aimee Garcia|Taryn ...   \n",
       "\n",
       "                        director  \\\n",
       "603             Steven Spielberg   \n",
       "1182            Francis Lawrence   \n",
       "1189  Pierre Coffin|Chris Renaud   \n",
       "284            Peter Billingsley   \n",
       "1393                  Nigel Cole   \n",
       "\n",
       "                                                tagline  \\\n",
       "603                       The adventure continues . . .   \n",
       "1182              Every revolution begins with a spark.   \n",
       "1189                                        Back 2 Work   \n",
       "284         It may be paradise... but it's no vacation.   \n",
       "1393  There's nothing better than a great romance......   \n",
       "\n",
       "                                               overview  runtime  \\\n",
       "603   Set during the Cold War, the Soviets â€“ led b...      122   \n",
       "1182  Katniss Everdeen has returned home safe after ...      146   \n",
       "1189  Gru is recruited by the Anti-Villain League to...       98   \n",
       "284   Four couples, all friends, descend on a tropic...      113   \n",
       "1393  On a flight from Los Angeles to New York, Oliv...      107   \n",
       "\n",
       "                                         genres  \\\n",
       "603                            Adventure|Action   \n",
       "1182  Science Fiction|Thriller|Action|Adventure   \n",
       "1189                    Animation|Comedy|Family   \n",
       "284                              Comedy|Romance   \n",
       "1393                                     Comedy   \n",
       "\n",
       "                                   production_companies release_date  \\\n",
       "603                        Lucasfilm|Paramount Pictures    5/21/2008   \n",
       "1182                              Lionsgate|Color Force   11/15/2013   \n",
       "1189      Universal Pictures|Illumination Entertainment    6/25/2013   \n",
       "284   Universal Pictures|Wild West Picture Show Prod...    9/19/2009   \n",
       "1393  Mile High Productions|Kevin Messick Production...    4/22/2005   \n",
       "\n",
       "      vote_average  release_year  \n",
       "603            5.6          2008  \n",
       "1182           7.4          2013  \n",
       "1189           7.0          2013  \n",
       "284            5.3          2009  \n",
       "1393           6.5          2005  "
      ]
     },
     "execution_count": 2,
     "metadata": {},
     "output_type": "execute_result"
    }
   ],
   "source": [
    "data = pd.read_csv('movie_bd_v5.csv')\n",
    "data.sample(5)"
   ]
  },
  {
   "cell_type": "code",
   "execution_count": 3,
   "metadata": {
    "colab": {},
    "colab_type": "code",
    "id": "CoYUnagMVp-C"
   },
   "outputs": [
    {
     "data": {
      "text/html": [
       "<div>\n",
       "<style scoped>\n",
       "    .dataframe tbody tr th:only-of-type {\n",
       "        vertical-align: middle;\n",
       "    }\n",
       "\n",
       "    .dataframe tbody tr th {\n",
       "        vertical-align: top;\n",
       "    }\n",
       "\n",
       "    .dataframe thead th {\n",
       "        text-align: right;\n",
       "    }\n",
       "</style>\n",
       "<table border=\"1\" class=\"dataframe\">\n",
       "  <thead>\n",
       "    <tr style=\"text-align: right;\">\n",
       "      <th></th>\n",
       "      <th>budget</th>\n",
       "      <th>revenue</th>\n",
       "      <th>runtime</th>\n",
       "      <th>vote_average</th>\n",
       "      <th>release_year</th>\n",
       "    </tr>\n",
       "  </thead>\n",
       "  <tbody>\n",
       "    <tr>\n",
       "      <th>count</th>\n",
       "      <td>1.889000e+03</td>\n",
       "      <td>1.889000e+03</td>\n",
       "      <td>1889.000000</td>\n",
       "      <td>1889.000000</td>\n",
       "      <td>1889.000000</td>\n",
       "    </tr>\n",
       "    <tr>\n",
       "      <th>mean</th>\n",
       "      <td>5.431083e+07</td>\n",
       "      <td>1.553653e+08</td>\n",
       "      <td>109.658549</td>\n",
       "      <td>6.140762</td>\n",
       "      <td>2007.860773</td>\n",
       "    </tr>\n",
       "    <tr>\n",
       "      <th>std</th>\n",
       "      <td>4.858721e+07</td>\n",
       "      <td>2.146698e+08</td>\n",
       "      <td>18.017041</td>\n",
       "      <td>0.764763</td>\n",
       "      <td>4.468841</td>\n",
       "    </tr>\n",
       "    <tr>\n",
       "      <th>min</th>\n",
       "      <td>5.000000e+06</td>\n",
       "      <td>2.033165e+06</td>\n",
       "      <td>63.000000</td>\n",
       "      <td>3.300000</td>\n",
       "      <td>2000.000000</td>\n",
       "    </tr>\n",
       "    <tr>\n",
       "      <th>25%</th>\n",
       "      <td>2.000000e+07</td>\n",
       "      <td>3.456058e+07</td>\n",
       "      <td>97.000000</td>\n",
       "      <td>5.600000</td>\n",
       "      <td>2004.000000</td>\n",
       "    </tr>\n",
       "    <tr>\n",
       "      <th>50%</th>\n",
       "      <td>3.800000e+07</td>\n",
       "      <td>8.361541e+07</td>\n",
       "      <td>107.000000</td>\n",
       "      <td>6.100000</td>\n",
       "      <td>2008.000000</td>\n",
       "    </tr>\n",
       "    <tr>\n",
       "      <th>75%</th>\n",
       "      <td>7.200000e+07</td>\n",
       "      <td>1.782626e+08</td>\n",
       "      <td>120.000000</td>\n",
       "      <td>6.600000</td>\n",
       "      <td>2012.000000</td>\n",
       "    </tr>\n",
       "    <tr>\n",
       "      <th>max</th>\n",
       "      <td>3.800000e+08</td>\n",
       "      <td>2.781506e+09</td>\n",
       "      <td>214.000000</td>\n",
       "      <td>8.100000</td>\n",
       "      <td>2015.000000</td>\n",
       "    </tr>\n",
       "  </tbody>\n",
       "</table>\n",
       "</div>"
      ],
      "text/plain": [
       "             budget       revenue      runtime  vote_average  release_year\n",
       "count  1.889000e+03  1.889000e+03  1889.000000   1889.000000   1889.000000\n",
       "mean   5.431083e+07  1.553653e+08   109.658549      6.140762   2007.860773\n",
       "std    4.858721e+07  2.146698e+08    18.017041      0.764763      4.468841\n",
       "min    5.000000e+06  2.033165e+06    63.000000      3.300000   2000.000000\n",
       "25%    2.000000e+07  3.456058e+07    97.000000      5.600000   2004.000000\n",
       "50%    3.800000e+07  8.361541e+07   107.000000      6.100000   2008.000000\n",
       "75%    7.200000e+07  1.782626e+08   120.000000      6.600000   2012.000000\n",
       "max    3.800000e+08  2.781506e+09   214.000000      8.100000   2015.000000"
      ]
     },
     "execution_count": 3,
     "metadata": {},
     "output_type": "execute_result"
    }
   ],
   "source": [
    "data.describe()\n"
   ]
  },
  {
   "cell_type": "markdown",
   "metadata": {
    "colab_type": "text",
    "id": "DTIt7ezGVp-G"
   },
   "source": [
    "# Предобработка"
   ]
  },
  {
   "cell_type": "code",
   "execution_count": 4,
   "metadata": {
    "colab": {},
    "colab_type": "code",
    "id": "jNb40DwKVp-H"
   },
   "outputs": [],
   "source": [
    "answers = {} # создадим словарь для ответов\n",
    "\n",
    "# тут другие ваши предобработки колонок например:\n",
    "#the time given in the dataset is in string format.\n",
    "#So we need to change this in datetime format\n",
    "# ...\n",
    "\n",
    "data.loc[:,'profit'] = data.revenue - data.budget #создадим колонку профит\n",
    "\n",
    "def prepare2xplode (str2split): #мини-функция для метода xplode\n",
    "    if str2split.find('|') > -1: \n",
    "        res = str2split.split(\"|\")\n",
    "        return res\n",
    "    else: return str2split\n",
    "#_________________\n",
    "\n",
    "#data.genres = data.genres.apply(prepare2xplode)\n",
    "#data.director= data.director.apply(prepare2xplode)\n",
    "#data.cast = data.cast.apply(prepare2xplode)\n",
    "#_________________"
   ]
  },
  {
   "cell_type": "markdown",
   "metadata": {
    "colab_type": "text",
    "id": "YxZaH-nPVp-L"
   },
   "source": [
    "# 1. У какого фильма из списка самый большой бюджет?"
   ]
  },
  {
   "cell_type": "markdown",
   "metadata": {
    "colab_type": "text",
    "id": "Nd-G5gX6Vp-M"
   },
   "source": [
    "Использовать варианты ответов в коде решения запрещено.    \n",
    "Вы думаете и в жизни у вас будут варианты ответов?)"
   ]
  },
  {
   "cell_type": "code",
   "execution_count": 5,
   "metadata": {
    "colab": {},
    "colab_type": "code",
    "id": "uVnXAY5RVp-O"
   },
   "outputs": [],
   "source": [
    "# в словарь вставляем номер вопроса и ваш ответ на него\n",
    "# Пример: \n",
    "answers['1'] = '2. Spider-Man 3 (tt0413300)'\n",
    "# запишите свой вариант ответа\n",
    "answers['1'] = '...'\n",
    "# если ответили верно, можете добавить комментарий со значком \"+\""
   ]
  },
  {
   "cell_type": "code",
   "execution_count": 6,
   "metadata": {
    "colab": {},
    "colab_type": "code",
    "id": "dZwb3m28Vp-S"
   },
   "outputs": [
    {
     "data": {
      "text/plain": [
       "723    Pirates of the Caribbean: On Stranger Tides\n",
       "Name: original_title, dtype: object"
      ]
     },
     "execution_count": 6,
     "metadata": {},
     "output_type": "execute_result"
    }
   ],
   "source": [
    "# тут пишем ваш код для решения данного вопроса:\n",
    "answers['1'] = data.loc[data.budget == data.budget.max()].original_title\n",
    "answers['1']"
   ]
  },
  {
   "cell_type": "markdown",
   "metadata": {
    "colab_type": "text",
    "id": "K7L3nbRXVp-X"
   },
   "source": [
    "ВАРИАНТ 2"
   ]
  },
  {
   "cell_type": "code",
   "execution_count": 0,
   "metadata": {
    "colab": {},
    "colab_type": "code",
    "id": "OGaoQI7rVp-X"
   },
   "outputs": [],
   "source": [
    "# можно добавлять разные варианты решения"
   ]
  },
  {
   "cell_type": "markdown",
   "metadata": {
    "colab_type": "text",
    "id": "FNRbbI3vVp-c"
   },
   "source": [
    "# 2. Какой из фильмов самый длительный (в минутах)?"
   ]
  },
  {
   "cell_type": "code",
   "execution_count": 7,
   "metadata": {
    "colab": {},
    "colab_type": "code",
    "id": "vHAoEXNTVp-d"
   },
   "outputs": [
    {
     "data": {
      "text/plain": [
       "1157    Gods and Generals\n",
       "Name: original_title, dtype: object"
      ]
     },
     "execution_count": 7,
     "metadata": {},
     "output_type": "execute_result"
    }
   ],
   "source": [
    "# думаю логику работы с этим словарем вы уже поняли, \n",
    "# по этому не буду больше его дублировать\n",
    "answers['2'] = data.loc[data.runtime == data.runtime.max()].original_title\n",
    "answers['2']"
   ]
  },
  {
   "cell_type": "code",
   "execution_count": null,
   "metadata": {
    "colab": {},
    "colab_type": "code",
    "id": "ot-VX2XrVp-g"
   },
   "outputs": [],
   "source": []
  },
  {
   "cell_type": "markdown",
   "metadata": {
    "colab_type": "text",
    "id": "bapLlpW8Vp-k"
   },
   "source": [
    "# 3. Какой из фильмов самый короткий (в минутах)?\n",
    "\n",
    "\n",
    "\n"
   ]
  },
  {
   "cell_type": "code",
   "execution_count": 8,
   "metadata": {
    "colab": {},
    "colab_type": "code",
    "id": "YBxaSHuAVp-l"
   },
   "outputs": [
    {
     "data": {
      "text/plain": [
       "768    Winnie the Pooh\n",
       "Name: original_title, dtype: object"
      ]
     },
     "execution_count": 8,
     "metadata": {},
     "output_type": "execute_result"
    }
   ],
   "source": [
    "answers['3'] = data.loc[data.runtime == data.runtime.min()].original_title\n",
    "answers['3']"
   ]
  },
  {
   "cell_type": "markdown",
   "metadata": {
    "colab_type": "text",
    "id": "TfQbxbfNVp-p"
   },
   "source": [
    "# 4. Какова средняя длительность фильмов?\n"
   ]
  },
  {
   "cell_type": "code",
   "execution_count": 9,
   "metadata": {
    "colab": {},
    "colab_type": "code",
    "id": "5K6dKZYVVp-q"
   },
   "outputs": [
    {
     "data": {
      "text/plain": [
       "109.6585494970884"
      ]
     },
     "execution_count": 9,
     "metadata": {},
     "output_type": "execute_result"
    }
   ],
   "source": [
    "answers['4']=data.runtime.mean()\n",
    "answers['4']"
   ]
  },
  {
   "cell_type": "markdown",
   "metadata": {
    "colab_type": "text",
    "id": "r5TvbnT_Vp-u"
   },
   "source": [
    "# 5. Каково медианное значение длительности фильмов? "
   ]
  },
  {
   "cell_type": "code",
   "execution_count": 10,
   "metadata": {
    "colab": {},
    "colab_type": "code",
    "id": "iBROplKnVp-v"
   },
   "outputs": [
    {
     "data": {
      "text/plain": [
       "107.0"
      ]
     },
     "execution_count": 10,
     "metadata": {},
     "output_type": "execute_result"
    }
   ],
   "source": [
    "answers['5']=data.runtime.median()\n",
    "answers['5']"
   ]
  },
  {
   "cell_type": "markdown",
   "metadata": {
    "colab_type": "text",
    "id": "39P-deDSVp-y"
   },
   "source": [
    "# 6. Какой самый прибыльный фильм?\n",
    "#### Внимание! Здесь и далее под «прибылью» или «убытками» понимается разность между сборами и бюджетом фильма. (прибыль = сборы - бюджет) в нашем датасете это будет (profit = revenue - budget) "
   ]
  },
  {
   "cell_type": "code",
   "execution_count": 11,
   "metadata": {
    "colab": {},
    "colab_type": "code",
    "id": "UYZh4T9WVp-y"
   },
   "outputs": [
    {
     "data": {
      "text/plain": [
       "239    Avatar\n",
       "Name: original_title, dtype: object"
      ]
     },
     "execution_count": 11,
     "metadata": {},
     "output_type": "execute_result"
    }
   ],
   "source": [
    "# лучше код получения столбца profit вынести в Предобработку что в начале\n",
    "answers['6']=data.loc[data.profit==data.profit.max()].original_title\n",
    "answers['6']"
   ]
  },
  {
   "cell_type": "markdown",
   "metadata": {
    "colab_type": "text",
    "id": "M99JmIX4Vp-2"
   },
   "source": [
    "# 7. Какой фильм самый убыточный? "
   ]
  },
  {
   "cell_type": "code",
   "execution_count": 12,
   "metadata": {
    "colab": {},
    "colab_type": "code",
    "id": "w-D2m4XPVp-3"
   },
   "outputs": [
    {
     "data": {
      "text/plain": [
       "1245    The Lone Ranger\n",
       "Name: original_title, dtype: object"
      ]
     },
     "execution_count": 12,
     "metadata": {},
     "output_type": "execute_result"
    }
   ],
   "source": [
    "answers['7']=data.loc[data.profit == data.profit.min()].original_title\n",
    "answers['7']"
   ]
  },
  {
   "cell_type": "markdown",
   "metadata": {
    "colab_type": "text",
    "id": "wEOM5ERVVp-6"
   },
   "source": [
    "# 8. У скольких фильмов из датасета объем сборов оказался выше бюджета?"
   ]
  },
  {
   "cell_type": "code",
   "execution_count": 13,
   "metadata": {
    "colab": {},
    "colab_type": "code",
    "id": "y00_7HD6Vp-7"
   },
   "outputs": [
    {
     "data": {
      "text/plain": [
       "1478"
      ]
     },
     "execution_count": 13,
     "metadata": {},
     "output_type": "execute_result"
    }
   ],
   "source": [
    "df2 = data[data.revenue>data.budget].copy()\n",
    "answers['8']=len(df2)\n",
    "answers['8']"
   ]
  },
  {
   "cell_type": "markdown",
   "metadata": {
    "colab_type": "text",
    "id": "xhpspA9KVp_A"
   },
   "source": [
    "# 9. Какой фильм оказался самым кассовым в 2008 году?"
   ]
  },
  {
   "cell_type": "code",
   "execution_count": 14,
   "metadata": {
    "colab": {},
    "colab_type": "code",
    "id": "MoUyQr9RVp_B"
   },
   "outputs": [
    {
     "data": {
      "text/plain": [
       "599    The Dark Knight\n",
       "Name: original_title, dtype: object"
      ]
     },
     "execution_count": 14,
     "metadata": {},
     "output_type": "execute_result"
    }
   ],
   "source": [
    "df2 = data[data.release_year == 2008].copy()\n",
    "answers['9'] = df2.loc[df2.revenue==df2.revenue.max()].original_title\n",
    "answers['9']"
   ]
  },
  {
   "cell_type": "markdown",
   "metadata": {
    "colab_type": "text",
    "id": "Zi4hDKidVp_F"
   },
   "source": [
    "# 10. Самый убыточный фильм за период с 2012 по 2014 г. (включительно)?\n"
   ]
  },
  {
   "cell_type": "code",
   "execution_count": 15,
   "metadata": {
    "colab": {},
    "colab_type": "code",
    "id": "XqyRmufJVp_F"
   },
   "outputs": [
    {
     "data": {
      "text/plain": [
       "1245    The Lone Ranger\n",
       "Name: original_title, dtype: object"
      ]
     },
     "execution_count": 15,
     "metadata": {},
     "output_type": "execute_result"
    }
   ],
   "source": [
    "df2 = data[(data.release_year >= 2012) & (data.release_year <= 2014)].copy()\n",
    "answers['10'] = df2.loc[df2.profit == df2.profit.min()].original_title\n",
    "answers['10']"
   ]
  },
  {
   "cell_type": "markdown",
   "metadata": {
    "colab_type": "text",
    "id": "EA7Sa9dkVp_I"
   },
   "source": [
    "# 11. Какого жанра фильмов больше всего?"
   ]
  },
  {
   "cell_type": "code",
   "execution_count": 16,
   "metadata": {
    "colab": {},
    "colab_type": "code",
    "id": "zsJAwJ8QVp_J"
   },
   "outputs": [
    {
     "data": {
      "text/plain": [
       "Drama    782\n",
       "Name: genres, dtype: int64"
      ]
     },
     "execution_count": 16,
     "metadata": {},
     "output_type": "execute_result"
    }
   ],
   "source": [
    "# эту задачу тоже можно решать разными подходами, попробуй реализовать разные варианты\n",
    "# если будешь добавлять функцию - выноси ее в предобработку что в начале\n",
    "\n",
    "gendf = data.copy()\n",
    "gendf.genres = gendf.genres.apply(prepare2xplode)\n",
    "gendf = gendf.explode('genres')\n",
    "answers['11'] = gendf.genres.value_counts().nlargest(1)\n",
    "answers['11']"
   ]
  },
  {
   "cell_type": "markdown",
   "metadata": {
    "colab_type": "text",
    "id": "Ax6g2C8SVp_M"
   },
   "source": [
    "ВАРИАНТ 2"
   ]
  },
  {
   "cell_type": "code",
   "execution_count": 371,
   "metadata": {
    "colab": {},
    "colab_type": "code",
    "id": "otO3SbrSVp_N"
   },
   "outputs": [
    {
     "data": {
      "text/plain": [
       "Drama              782\n",
       "Comedy             683\n",
       "Thriller           596\n",
       "Action             582\n",
       "Adventure          415\n",
       "Crime              315\n",
       "Romance            308\n",
       "Family             260\n",
       "Science Fiction    248\n",
       "Fantasy            222\n",
       "Horror             176\n",
       "Mystery            168\n",
       "Animation          139\n",
       "Music               64\n",
       "History             62\n",
       "War                 58\n",
       "Western             19\n",
       "Documentary          8\n",
       "Foreign              2\n",
       "Name: genres, dtype: int64"
      ]
     },
     "execution_count": 371,
     "metadata": {},
     "output_type": "execute_result"
    }
   ],
   "source": []
  },
  {
   "cell_type": "markdown",
   "metadata": {
    "colab_type": "text",
    "id": "T9_bPWpkVp_Q"
   },
   "source": [
    "# 12. Фильмы какого жанра чаще всего становятся прибыльными? "
   ]
  },
  {
   "cell_type": "code",
   "execution_count": 17,
   "metadata": {
    "colab": {},
    "colab_type": "code",
    "id": "Tmt8MaK1Vp_R"
   },
   "outputs": [
    {
     "data": {
      "text/plain": [
       "'Drama'"
      ]
     },
     "execution_count": 17,
     "metadata": {},
     "output_type": "execute_result"
    }
   ],
   "source": [
    "profitgenre = 0\n",
    "profitgenreMax = 0\n",
    "genreMax = 'lol'\n",
    "df2 = data[data.profit > 0]\n",
    "df2 = df2[['genres','profit']]\n",
    "\n",
    "\n",
    "df2.genres = df2.genres.apply(prepare2xplode)\n",
    "df2 = df2.explode('genres')\n",
    "\n",
    "genresarray = df2.genres.value_counts().keys()\n",
    "\n",
    "for eachgenre in genresarray:\n",
    "    profitgenre = df2[df2.genres == eachgenre].profit.count()\n",
    "    if profitgenreMax < profitgenre:\n",
    "        profitgenreMax = profitgenre\n",
    "        genreMax = eachgenre\n",
    "        \n",
    "answers['12'] = genreMax\n",
    "answers['12']"
   ]
  },
  {
   "cell_type": "markdown",
   "metadata": {
    "colab_type": "text",
    "id": "0F23bgsDVp_U"
   },
   "source": [
    "# 13. У какого режиссера самые большие суммарные кассовые сбооры?"
   ]
  },
  {
   "cell_type": "code",
   "execution_count": 18,
   "metadata": {
    "colab": {},
    "colab_type": "code",
    "id": "K6Z3J8ygVp_X"
   },
   "outputs": [
    {
     "name": "stderr",
     "output_type": "stream",
     "text": [
      "/Users/agalypirkuliev/opt/anaconda3/lib/python3.7/site-packages/pandas/core/generic.py:5303: SettingWithCopyWarning: \n",
      "A value is trying to be set on a copy of a slice from a DataFrame.\n",
      "Try using .loc[row_indexer,col_indexer] = value instead\n",
      "\n",
      "See the caveats in the documentation: https://pandas.pydata.org/pandas-docs/stable/user_guide/indexing.html#returning-a-view-versus-a-copy\n",
      "  self[name] = value\n"
     ]
    },
    {
     "name": "stdout",
     "output_type": "stream",
     "text": [
      "6490593685 Peter Jackson\n"
     ]
    }
   ],
   "source": [
    "revsumm = 0\n",
    "maxsumm = 0\n",
    "maxdir = 'lol'\n",
    "\n",
    "df2 = data[['director','revenue']]\n",
    "df2.director = df2.director.apply(prepare2xplode)\n",
    "df2 = df2.explode('director')\n",
    "directorsarray = df2.director.value_counts().keys()\n",
    "\n",
    "for eachdirector in directorsarray :\n",
    "    revsumm = df2[df2.director == eachdirector].revenue.sum()\n",
    "    if maxsumm < revsumm :\n",
    "        maxsumm = revsumm\n",
    "        maxdir = eachdirector\n",
    "\n",
    "print(maxsumm, maxdir)\n",
    "answers['13'] = maxdir"
   ]
  },
  {
   "cell_type": "markdown",
   "metadata": {
    "colab_type": "text",
    "id": "PsYC9FgRVp_a"
   },
   "source": [
    "# 14. Какой режисер снял больше всего фильмов в стиле Action?"
   ]
  },
  {
   "cell_type": "code",
   "execution_count": 19,
   "metadata": {
    "colab": {},
    "colab_type": "code",
    "id": "wd2M-wHeVp_b"
   },
   "outputs": [
    {
     "name": "stdout",
     "output_type": "stream",
     "text": [
      "9 Robert Rodriguez\n"
     ]
    }
   ],
   "source": [
    "actsumm = 0\n",
    "maxact = 0 #счетчик макс кол-ва Экшн\n",
    "maxdir = \"lol\" # Имя режиссера\n",
    "df2 = data[['genres','director']]\n",
    "\n",
    "df2.genres = df2.genres.apply(prepare2xplode)\n",
    "df2 = df2.explode('genres')\n",
    "df2.director = df2.director.apply(prepare2xplode)\n",
    "df2 = df2.explode('director')\n",
    "\n",
    "directorsarray = df2.director.value_counts().keys()\n",
    "for eachdirector in directorsarray :\n",
    "    actsumm = len(df2[(df2.director == eachdirector) & (df2.genres == 'Action')])\n",
    "    if maxact < actsumm:\n",
    "        maxact = actsumm\n",
    "        maxdir = eachdirector\n",
    "\n",
    "\n",
    "print(maxact, maxdir)\n",
    "answers['14'] = maxdir"
   ]
  },
  {
   "cell_type": "markdown",
   "metadata": {
    "colab_type": "text",
    "id": "PQ0KciD7Vp_f"
   },
   "source": [
    "# 15. Фильмы с каким актером принесли самые высокие кассовые сборы в 2012 году? "
   ]
  },
  {
   "cell_type": "code",
   "execution_count": 20,
   "metadata": {
    "colab": {},
    "colab_type": "code",
    "id": "aga62oeKVp_g"
   },
   "outputs": [
    {
     "name": "stdout",
     "output_type": "stream",
     "text": [
      "Chris Hemsworth\n"
     ]
    }
   ],
   "source": [
    "maxrevenue = 0\n",
    "revenue = 0\n",
    "actormax = 'lol'\n",
    "\n",
    "#df2 = data[data.release_year == 2012]\n",
    "df2 = data[['cast','revenue','release_year']]\n",
    "df2.cast = df2.cast.apply(prepare2xplode)\n",
    "df2 = df2.explode('cast')\n",
    "actorsarray = df2.cast.unique()\n",
    "for actor in actorsarray:\n",
    "    revenue = df2[(df2.cast == actor) & (df2.release_year==2012)].revenue.sum()\n",
    "    if revenue > maxrevenue :\n",
    "        maxrevenue = revenue\n",
    "        actormax = actor\n",
    "        \n",
    "print(actormax)\n",
    "answers['15'] = actormax"
   ]
  },
  {
   "cell_type": "markdown",
   "metadata": {
    "colab_type": "text",
    "id": "mWHyyL7QVp_j"
   },
   "source": [
    "# 16. Какой актер снялся в большем количестве высокобюджетных фильмов?"
   ]
  },
  {
   "cell_type": "code",
   "execution_count": 21,
   "metadata": {
    "colab": {},
    "colab_type": "code",
    "id": "qQtmHKTFVp_k"
   },
   "outputs": [
    {
     "name": "stdout",
     "output_type": "stream",
     "text": [
      "Matt Damon\n"
     ]
    }
   ],
   "source": [
    "maxfilmcount = 0\n",
    "filmcount = 0\n",
    "maxactor = 'lol'\n",
    "\n",
    "df2 = data[data.budget>data.budget.mean()].copy()\n",
    "df2.cast = df2.cast.apply(prepare2xplode)\n",
    "df2 = df2.explode('cast')\n",
    "\n",
    "actorsarr = df2.cast.value_counts().keys()\n",
    "\n",
    "for actors in actorsarr:\n",
    "    filmcount = len(df2[df2.cast == actors].original_title)\n",
    "    if filmcount > maxfilmcount:\n",
    "        maxfilmcount = filmcount\n",
    "        maxactor= actors\n",
    "\n",
    "print(maxactor)\n",
    "answers['16'] = maxactor"
   ]
  },
  {
   "cell_type": "markdown",
   "metadata": {
    "colab_type": "text",
    "id": "NIh6AaW5Vp_n"
   },
   "source": [
    "# 17. В фильмах какого жанра больше всего снимался Nicolas Cage? "
   ]
  },
  {
   "cell_type": "code",
   "execution_count": 22,
   "metadata": {
    "colab": {},
    "colab_type": "code",
    "id": "H74SJDIBVp_n"
   },
   "outputs": [
    {
     "data": {
      "text/plain": [
       "'Action'"
      ]
     },
     "execution_count": 22,
     "metadata": {},
     "output_type": "execute_result"
    }
   ],
   "source": [
    "df2 = data[['cast','genres']]\n",
    "df2.cast = df2.cast.apply(prepare2xplode)\n",
    "df2 = df2.explode('cast')\n",
    "df2 = df2[df2.cast=='Nicolas Cage']\n",
    "\n",
    "df2.genres = df2.genres.apply(prepare2xplode)\n",
    "\n",
    "df2 = df2.explode('cast')\n",
    "df2 = df2.explode('genres')\n",
    "\n",
    "answers['17'] = df2.genres.value_counts().keys()[0]\n",
    "answers['17']"
   ]
  },
  {
   "cell_type": "markdown",
   "metadata": {
    "colab_type": "text",
    "id": "RqOmPRfWVp_q"
   },
   "source": [
    "# 18. Самый убыточный фильм от Paramount Pictures"
   ]
  },
  {
   "cell_type": "code",
   "execution_count": 23,
   "metadata": {
    "colab": {},
    "colab_type": "code",
    "id": "9E_B0Y96Vp_r"
   },
   "outputs": [
    {
     "data": {
      "text/plain": [
       "925    K-19: The Widowmaker\n",
       "Name: original_title, dtype: object"
      ]
     },
     "execution_count": 23,
     "metadata": {},
     "output_type": "execute_result"
    }
   ],
   "source": [
    "df2 = data[data.profit<0]\n",
    "df2.production_companies = df2.production_companies.apply(prepare2xplode)\n",
    "df2 = df2.explode('production_companies')\n",
    "df2 = df2[(df2.production_companies == 'Paramount Pictures')]\n",
    "ubytok = df2.profit.min()\n",
    "answers['18'] = df2[df2.profit == ubytok].original_title\n",
    "answers['18']\n",
    "#df2[(df2.production_companies == 'Paramount Pictures')& (df2.profit== df2.profit.min())].original_title"
   ]
  },
  {
   "cell_type": "markdown",
   "metadata": {
    "colab_type": "text",
    "id": "vS8Ur6ddVp_u"
   },
   "source": [
    "# 19. Какой год стал самым успешным по суммарным кассовым сборам?"
   ]
  },
  {
   "cell_type": "code",
   "execution_count": 24,
   "metadata": {
    "colab": {},
    "colab_type": "code",
    "id": "Dnbt4GdIVp_v"
   },
   "outputs": [
    {
     "data": {
      "text/plain": [
       "2015"
      ]
     },
     "execution_count": 24,
     "metadata": {},
     "output_type": "execute_result"
    }
   ],
   "source": [
    "maxsumm = 0\n",
    "tsum = 0\n",
    "bestyear = 'lol'\n",
    "yearsarray = data.release_year.unique()\n",
    "for year in yearsarray:\n",
    "    tsum = data[data.release_year == year].revenue.sum()\n",
    "    if tsum > maxsumm:\n",
    "        maxsumm = tsum\n",
    "        bestyear = year\n",
    "\n",
    "answers['19'] = bestyear\n",
    "answers['19']"
   ]
  },
  {
   "cell_type": "markdown",
   "metadata": {
    "colab_type": "text",
    "id": "JAzJh4QAVp_z"
   },
   "source": [
    "# 20. Какой самый прибыльный год для студии Warner Bros?"
   ]
  },
  {
   "cell_type": "code",
   "execution_count": 25,
   "metadata": {
    "colab": {},
    "colab_type": "code",
    "id": "wgVu02DEVp_0"
   },
   "outputs": [
    {
     "name": "stdout",
     "output_type": "stream",
     "text": [
      "2014 2292949646\n"
     ]
    },
    {
     "data": {
      "text/plain": [
       "'2014'"
      ]
     },
     "execution_count": 25,
     "metadata": {},
     "output_type": "execute_result"
    }
   ],
   "source": [
    "#data = pd.read_csv('movie_bd_v5.csv')\n",
    "#data.loc[:,'profit'] = data.revenue - data.budget #создадим колонку профит\n",
    "\n",
    "maxsumm = 0\n",
    "tsum = 0\n",
    "bestyear = 'lol'\n",
    "\n",
    "df2 = data[['production_companies','profit','release_date']]\n",
    "\n",
    "df2.production_companies = df2.production_companies.apply(prepare2xplode)\n",
    "df2 = df2.explode('production_companies')\n",
    "df2 = df2[(df2.production_companies.str.contains('Warner Bros'))]\n",
    "df2.release_date = df2.release_date.str[-4:]\n",
    "\n",
    "yearsarray = df2.release_date.value_counts()\n",
    "for year in yearsarray.keys():\n",
    "    tsum = df2[df2.release_date == year].profit.sum()\n",
    "    if tsum > maxsumm:\n",
    "        maxsumm = tsum\n",
    "        bestyear = year\n",
    "print(bestyear,maxsumm)\n",
    "answers['20'] = bestyear\n",
    "answers['20']"
   ]
  },
  {
   "cell_type": "markdown",
   "metadata": {
    "colab_type": "text",
    "id": "8Im1S2HRVp_4"
   },
   "source": [
    "# 21. В каком месяце за все годы суммарно вышло больше всего фильмов?"
   ]
  },
  {
   "cell_type": "code",
   "execution_count": 26,
   "metadata": {
    "colab": {},
    "colab_type": "code",
    "id": "lev6TH7gVp_4"
   },
   "outputs": [
    {
     "data": {
      "text/plain": [
       "[('9', 227)]"
      ]
     },
     "execution_count": 26,
     "metadata": {},
     "output_type": "execute_result"
    }
   ],
   "source": [
    "montharray = Counter(data.release_date.apply(lambda x:x[0:x.find('/')]))\n",
    "answers['21'] = montharray.most_common(1)\n",
    "answers['21']"
   ]
  },
  {
   "cell_type": "markdown",
   "metadata": {
    "colab_type": "text",
    "id": "uAJsZ_NeVp_7"
   },
   "source": [
    "# 22. Сколько суммарно вышло фильмов летом? (за июнь, июль, август)"
   ]
  },
  {
   "cell_type": "code",
   "execution_count": 27,
   "metadata": {
    "colab": {},
    "colab_type": "code",
    "id": "Aa-hEREoVp_8"
   },
   "outputs": [
    {
     "data": {
      "text/plain": [
       "450"
      ]
     },
     "execution_count": 27,
     "metadata": {},
     "output_type": "execute_result"
    }
   ],
   "source": [
    "montharray = data.release_date.apply(lambda x:x[0:x.find('/')])\n",
    "summer = montharray.value_counts()\n",
    "summer = summer['6']+summer['7']+summer['8']\n",
    "answers['22']=summer\n",
    "answers['22']"
   ]
  },
  {
   "cell_type": "markdown",
   "metadata": {
    "colab_type": "text",
    "id": "G94ppOY1VqAA"
   },
   "source": [
    "# 23. Для какого режиссера зима – самое продуктивное время года? "
   ]
  },
  {
   "cell_type": "code",
   "execution_count": 28,
   "metadata": {
    "colab": {},
    "colab_type": "code",
    "id": "RhNTsamuVqAB"
   },
   "outputs": [
    {
     "data": {
      "text/plain": [
       "'Peter Jackson'"
      ]
     },
     "execution_count": 28,
     "metadata": {},
     "output_type": "execute_result"
    }
   ],
   "source": [
    "maxsumm = 0\n",
    "tsum = 0\n",
    "bestyear = 'lol'\n",
    "df1 = data[(data.release_date.str[:2] == '12')]\n",
    "df2 = data[(data.release_date.str[:2] == '1/')]\n",
    "df3 = data[(data.release_date.str[:2] == '2/')]\n",
    "winterdf = pd.concat([df1,df2,df3])\n",
    "winterdf.director = winterdf.director.apply(prepare2xplode)\n",
    "winterdf = winterdf.explode('director')\n",
    "winterdirector = winterdf.director.value_counts()\n",
    "\n",
    "answers['23'] = winterdirector.keys()[0]\n",
    "answers['23']"
   ]
  },
  {
   "cell_type": "markdown",
   "metadata": {
    "colab_type": "text",
    "id": "RBo0JVjVVqAF"
   },
   "source": [
    "# 24. Какая студия дает самые длинные названия своим фильмам по количеству символов?"
   ]
  },
  {
   "cell_type": "code",
   "execution_count": 29,
   "metadata": {
    "colab": {},
    "colab_type": "code",
    "id": "QRGS8L0iVqAG"
   },
   "outputs": [
    {
     "name": "stderr",
     "output_type": "stream",
     "text": [
      "/Users/agalypirkuliev/opt/anaconda3/lib/python3.7/site-packages/pandas/core/indexing.py:844: SettingWithCopyWarning: \n",
      "A value is trying to be set on a copy of a slice from a DataFrame.\n",
      "Try using .loc[row_indexer,col_indexer] = value instead\n",
      "\n",
      "See the caveats in the documentation: https://pandas.pydata.org/pandas-docs/stable/user_guide/indexing.html#returning-a-view-versus-a-copy\n",
      "  self.obj[key] = _infer_fill_value(value)\n",
      "/Users/agalypirkuliev/opt/anaconda3/lib/python3.7/site-packages/pandas/core/indexing.py:965: SettingWithCopyWarning: \n",
      "A value is trying to be set on a copy of a slice from a DataFrame.\n",
      "Try using .loc[row_indexer,col_indexer] = value instead\n",
      "\n",
      "See the caveats in the documentation: https://pandas.pydata.org/pandas-docs/stable/user_guide/indexing.html#returning-a-view-versus-a-copy\n",
      "  self.obj[item] = s\n"
     ]
    },
    {
     "data": {
      "text/plain": [
       "'Four By Two Productions'"
      ]
     },
     "execution_count": 29,
     "metadata": {},
     "output_type": "execute_result"
    }
   ],
   "source": [
    "maxlen = 0\n",
    "titlelen = 0\n",
    "production = 'lol'\n",
    "\n",
    "df2 = data[['production_companies', 'original_title']]\n",
    "df2.loc[:,'length'] = df2.original_title.str.len()\n",
    "del df2['original_title']\n",
    "#df2 = df2[df2.length>df2.length.mean()]\n",
    "df2.production_companies = df2.production_companies.apply(prepare2xplode)\n",
    "df2 = df2.explode('production_companies')\n",
    "companiesarray = df2.production_companies.value_counts().keys()\n",
    "\n",
    "for company in companiesarray:\n",
    "    titlelen = df2[df2.production_companies==company].length.mean()\n",
    "    if titlelen > maxlen:\n",
    "        maxlen = titlelen\n",
    "        production = company\n",
    "\n",
    "        \n",
    "answers['24'] = production\n",
    "answers['24']\n",
    "    \n"
   ]
  },
  {
   "cell_type": "markdown",
   "metadata": {
    "colab_type": "text",
    "id": "9G0hbvR7VqAK"
   },
   "source": [
    "# 25. Описание фильмов какой студии в среднем самые длинные по количеству слов?"
   ]
  },
  {
   "cell_type": "code",
   "execution_count": 30,
   "metadata": {
    "colab": {},
    "colab_type": "code",
    "id": "Ge2GsLNxVqAK"
   },
   "outputs": [
    {
     "data": {
      "text/plain": [
       "'Midnight Picture Show'"
      ]
     },
     "execution_count": 30,
     "metadata": {},
     "output_type": "execute_result"
    }
   ],
   "source": [
    "maxlen = 0\n",
    "titlelen = 0\n",
    "production = 'lol'\n",
    "\n",
    "df2 = data[['production_companies','overview']]\n",
    "df2.production_companies = df2.production_companies.apply(prepare2xplode)\n",
    "df2.overview = df2.overview.apply(lambda x: x.count(\" \")+1)\n",
    "df2 = df2.explode('production_companies')\n",
    "\n",
    "companiesarray = df2.production_companies.value_counts().keys()\n",
    "\n",
    "for company in companiesarray:\n",
    "    titlelen = df2[df2.production_companies==company].overview.mean()\n",
    "    if titlelen > maxlen:\n",
    "        maxlen = titlelen\n",
    "        production = company\n",
    "\n",
    "answers['25'] = production\n",
    "answers['25']"
   ]
  },
  {
   "cell_type": "markdown",
   "metadata": {
    "colab_type": "text",
    "id": "FJ1AFt90VqAP"
   },
   "source": [
    "# 26. Какие фильмы входят в 1 процент лучших по рейтингу? \n",
    "по vote_average"
   ]
  },
  {
   "cell_type": "code",
   "execution_count": 31,
   "metadata": {
    "colab": {},
    "colab_type": "code",
    "id": "8qmJVq4CVqAQ"
   },
   "outputs": [
    {
     "data": {
      "text/plain": [
       "['The Dark Knight',\n",
       " 'Inside Out',\n",
       " 'Room',\n",
       " 'Interstellar',\n",
       " 'The Imitation Game',\n",
       " 'Guardians of the Galaxy',\n",
       " 'Gone Girl',\n",
       " 'The Grand Budapest Hotel',\n",
       " 'Inception',\n",
       " 'The Pianist',\n",
       " 'The Lord of the Rings: The Return of the King',\n",
       " 'The Wolf of Wall Street',\n",
       " '12 Years a Slave',\n",
       " 'Memento',\n",
       " 'Spotlight',\n",
       " 'Big Hero 6',\n",
       " 'The Theory of Everything',\n",
       " 'The Fault in Our Stars']"
      ]
     },
     "metadata": {},
     "output_type": "display_data"
    },
    {
     "data": {
      "text/plain": [
       "('Inside Out', 'The Dark Knight', '12 Years a Slave')"
      ]
     },
     "execution_count": 31,
     "metadata": {},
     "output_type": "execute_result"
    }
   ],
   "source": [
    "df = data[['original_title','vote_average']]\n",
    "onepercent = round(len(data)/100)\n",
    "\n",
    "vcount = data.vote_average.value_counts()\n",
    "ratesarray = vcount.keys().sort_values(ascending=False)\n",
    "resultarray = []\n",
    "for each in ratesarray:\n",
    "    resultarray = resultarray + (df[df.vote_average == each].original_title.values.tolist())\n",
    "    if len(resultarray) >= onepercent:break\n",
    "\n",
    "display(resultarray[0:onepercent-1])  \n",
    "answers['26'] = resultarray[1], resultarray[0], resultarray[12]\n",
    "answers['26']"
   ]
  },
  {
   "cell_type": "markdown",
   "metadata": {
    "colab_type": "text",
    "id": "MdXsUXbCVqAV"
   },
   "source": [
    "# 27. Какие актеры чаще всего снимаются в одном фильме вместе?\n"
   ]
  },
  {
   "cell_type": "code",
   "execution_count": 467,
   "metadata": {},
   "outputs": [
    {
     "data": {
      "text/html": [
       "<div>\n",
       "<style scoped>\n",
       "    .dataframe tbody tr th:only-of-type {\n",
       "        vertical-align: middle;\n",
       "    }\n",
       "\n",
       "    .dataframe tbody tr th {\n",
       "        vertical-align: top;\n",
       "    }\n",
       "\n",
       "    .dataframe thead th {\n",
       "        text-align: right;\n",
       "    }\n",
       "</style>\n",
       "<table border=\"1\" class=\"dataframe\">\n",
       "  <thead>\n",
       "    <tr style=\"text-align: right;\">\n",
       "      <th></th>\n",
       "      <th>imdb_id</th>\n",
       "      <th>cast</th>\n",
       "    </tr>\n",
       "  </thead>\n",
       "  <tbody>\n",
       "    <tr>\n",
       "      <th>0</th>\n",
       "      <td>tt0369610</td>\n",
       "      <td>0</td>\n",
       "    </tr>\n",
       "    <tr>\n",
       "      <th>0</th>\n",
       "      <td>tt0369610</td>\n",
       "      <td>1</td>\n",
       "    </tr>\n",
       "    <tr>\n",
       "      <th>0</th>\n",
       "      <td>tt0369610</td>\n",
       "      <td>2</td>\n",
       "    </tr>\n",
       "    <tr>\n",
       "      <th>0</th>\n",
       "      <td>tt0369610</td>\n",
       "      <td>3</td>\n",
       "    </tr>\n",
       "    <tr>\n",
       "      <th>0</th>\n",
       "      <td>tt0369610</td>\n",
       "      <td>4</td>\n",
       "    </tr>\n",
       "    <tr>\n",
       "      <th>...</th>\n",
       "      <td>...</td>\n",
       "      <td>...</td>\n",
       "    </tr>\n",
       "    <tr>\n",
       "      <th>1888</th>\n",
       "      <td>tt0163676</td>\n",
       "      <td>3401</td>\n",
       "    </tr>\n",
       "    <tr>\n",
       "      <th>1888</th>\n",
       "      <td>tt0163676</td>\n",
       "      <td>3402</td>\n",
       "    </tr>\n",
       "    <tr>\n",
       "      <th>1888</th>\n",
       "      <td>tt0163676</td>\n",
       "      <td>3403</td>\n",
       "    </tr>\n",
       "    <tr>\n",
       "      <th>1888</th>\n",
       "      <td>tt0163676</td>\n",
       "      <td>3404</td>\n",
       "    </tr>\n",
       "    <tr>\n",
       "      <th>1888</th>\n",
       "      <td>tt0163676</td>\n",
       "      <td>3405</td>\n",
       "    </tr>\n",
       "  </tbody>\n",
       "</table>\n",
       "<p>9438 rows × 2 columns</p>\n",
       "</div>"
      ],
      "text/plain": [
       "        imdb_id  cast\n",
       "0     tt0369610     0\n",
       "0     tt0369610     1\n",
       "0     tt0369610     2\n",
       "0     tt0369610     3\n",
       "0     tt0369610     4\n",
       "...         ...   ...\n",
       "1888  tt0163676  3401\n",
       "1888  tt0163676  3402\n",
       "1888  tt0163676  3403\n",
       "1888  tt0163676  3404\n",
       "1888  tt0163676  3405\n",
       "\n",
       "[9438 rows x 2 columns]"
      ]
     },
     "metadata": {},
     "output_type": "display_data"
    },
    {
     "data": {
      "text/plain": [
       "\"\\ndf = df.explode('cast')\\ndisplay(df)\\nactorsarray = df.cast.unique()\\n\\nprint(actorsarray)\\nfor each in actorsarray:\\n    titlearray = {key = each, df[df.cast == each].imdb_id.values}\\n    coactor = df[df.original_title==titlearray].cast.unique()\\n    print(coactor)\\n    break\\n\""
      ]
     },
     "execution_count": 467,
     "metadata": {},
     "output_type": "execute_result"
    }
   ],
   "source": [
    "df = data[['imdb_id','cast']]\n",
    "\n",
    "df.cast = df.cast.apply(prepare2xplode)\n",
    "df = df.explode('cast')\n",
    "actorsarray = df.cast.unique()\n",
    "c=0\n",
    "for actor in actorsarray:\n",
    "    df.loc[df.cast==actor,'cast'] = (c)\n",
    "    c +=1\n",
    "\n",
    "display(df)\n",
    "\n",
    "\"\"\"\n",
    "df = df.explode('cast')\n",
    "display(df)\n",
    "actorsarray = df.cast.unique()\n",
    "\n",
    "print(actorsarray)\n",
    "for each in actorsarray:\n",
    "    titlearray = {key = each, df[df.cast == each].imdb_id.values}\n",
    "    coactor = df[df.original_title==titlearray].cast.unique()\n",
    "    print(coactor)\n",
    "    break\n",
    "\"\"\""
   ]
  },
  {
   "cell_type": "markdown",
   "metadata": {
    "colab_type": "text",
    "id": "U0nONFnGVqAX"
   },
   "source": [
    "# Submission"
   ]
  },
  {
   "cell_type": "code",
   "execution_count": 32,
   "metadata": {
    "colab": {},
    "colab_type": "code",
    "id": "IfcaRO9-VqAX",
    "outputId": "0f132912-32bb-4196-c98c-abfbc4ad5a5f"
   },
   "outputs": [
    {
     "data": {
      "text/plain": [
       "{'1': 723    Pirates of the Caribbean: On Stranger Tides\n",
       " Name: original_title, dtype: object,\n",
       " '2': 1157    Gods and Generals\n",
       " Name: original_title, dtype: object,\n",
       " '3': 768    Winnie the Pooh\n",
       " Name: original_title, dtype: object,\n",
       " '4': 109.6585494970884,\n",
       " '5': 107.0,\n",
       " '6': 239    Avatar\n",
       " Name: original_title, dtype: object,\n",
       " '7': 1245    The Lone Ranger\n",
       " Name: original_title, dtype: object,\n",
       " '8': 1478,\n",
       " '9': 599    The Dark Knight\n",
       " Name: original_title, dtype: object,\n",
       " '10': 1245    The Lone Ranger\n",
       " Name: original_title, dtype: object,\n",
       " '11': Drama    782\n",
       " Name: genres, dtype: int64,\n",
       " '12': 'Drama',\n",
       " '13': 'Peter Jackson',\n",
       " '14': 'Robert Rodriguez',\n",
       " '15': 'Chris Hemsworth',\n",
       " '16': 'Matt Damon',\n",
       " '17': 'Action',\n",
       " '18': 925    K-19: The Widowmaker\n",
       " Name: original_title, dtype: object,\n",
       " '19': 2015,\n",
       " '20': '2014',\n",
       " '21': [('9', 227)],\n",
       " '22': 450,\n",
       " '23': 'Peter Jackson',\n",
       " '24': 'Four By Two Productions',\n",
       " '25': 'Midnight Picture Show',\n",
       " '26': ('Inside Out', 'The Dark Knight', '12 Years a Slave')}"
      ]
     },
     "execution_count": 32,
     "metadata": {},
     "output_type": "execute_result"
    }
   ],
   "source": [
    "# в конце можно посмотреть свои ответы к каждому вопросу\n",
    "answers"
   ]
  },
  {
   "cell_type": "code",
   "execution_count": 33,
   "metadata": {
    "colab": {},
    "colab_type": "code",
    "id": "SiRmHPl8VqAd"
   },
   "outputs": [
    {
     "data": {
      "text/plain": [
       "26"
      ]
     },
     "execution_count": 33,
     "metadata": {},
     "output_type": "execute_result"
    }
   ],
   "source": [
    "# и убедиться что ни чего не пропустил)\n",
    "len(answers)"
   ]
  },
  {
   "cell_type": "code",
   "execution_count": 0,
   "metadata": {
    "colab": {},
    "colab_type": "code",
    "id": "uCfuTkRbVqAg"
   },
   "outputs": [],
   "source": []
  },
  {
   "cell_type": "code",
   "execution_count": 0,
   "metadata": {
    "colab": {},
    "colab_type": "code",
    "id": "Vwx3NrkSVqAl"
   },
   "outputs": [],
   "source": []
  }
 ],
 "metadata": {
  "colab": {
   "name": "Copy of [SF-DST] Movies IMBD v4.1 TEMPLATE.ipynb",
   "provenance": []
  },
  "kernelspec": {
   "display_name": "Python 3",
   "language": "python",
   "name": "python3"
  },
  "language_info": {
   "codemirror_mode": {
    "name": "ipython",
    "version": 3
   },
   "file_extension": ".py",
   "mimetype": "text/x-python",
   "name": "python",
   "nbconvert_exporter": "python",
   "pygments_lexer": "ipython3",
   "version": "3.7.6"
  }
 },
 "nbformat": 4,
 "nbformat_minor": 1
}
